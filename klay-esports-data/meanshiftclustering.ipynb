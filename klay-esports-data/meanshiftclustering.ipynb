{
  "nbformat": 4,
  "nbformat_minor": 0,
  "metadata": {
    "colab": {
      "name": "meanshiftclustering.ipynb",
      "provenance": [],
      "collapsed_sections": [
        "O0Hk3aS5cyO0"
      ],
      "toc_visible": true,
      "mount_file_id": "18uNFfxJIl-Rf6T8P_ehjwrhk0C1BBUJ6",
      "authorship_tag": "ABX9TyOlVkkV3sDPsWp8Tgps1zEb",
      "include_colab_link": true
    },
    "kernelspec": {
      "name": "python3",
      "display_name": "Python 3"
    }
  },
  "cells": [
    {
      "cell_type": "markdown",
      "metadata": {
        "id": "view-in-github",
        "colab_type": "text"
      },
      "source": [
        "<a href=\"https://colab.research.google.com/github/Youngerjesus/KlayESports/blob/master/meanshiftclustering.ipynb\" target=\"_parent\"><img src=\"https://colab.research.google.com/assets/colab-badge.svg\" alt=\"Open In Colab\"/></a>"
      ]
    },
    {
      "cell_type": "markdown",
      "metadata": {
        "id": "_2CjbAmcfALf",
        "colab_type": "text"
      },
      "source": [
        "아예 다른 알고리즘으로 클러스터링 해보았어요\n",
        "\n",
        "실행하면 클러스터별 특징 점수랑 소속선수 확인할 수 있습니다."
      ]
    },
    {
      "cell_type": "code",
      "metadata": {
        "id": "nQq_crKvXWOz",
        "colab_type": "code",
        "colab": {}
      },
      "source": [
        "import pandas as pd\n",
        "import numpy as np\n",
        "import matplotlib.pyplot as plt\n",
        "import seaborn as sns\n",
        "%matplotlib inline\n",
        "\n",
        "\n",
        "from sklearn.preprocessing import StandardScaler\n",
        "\n",
        "from sklearn.cluster import MeanShift\n",
        "from sklearn.cluster import estimate_bandwidth\n",
        "from sklearn.cluster import KMeans\n",
        "from sklearn.metrics import silhouette_samples, silhouette_score\n",
        "\n",
        "import matplotlib.pyplot as plt\n",
        "import matplotlib.cm as cm\n",
        "import math\n",
        "\n",
        "pd.set_option('display.max_rows', None)\n",
        "pd.set_option('display.max_columns', None)\n",
        "\n",
        "data = pd.read_excel('/content/drive/My Drive/data_anal/klaytn/klaytn_데이터.xlsx', sheet_name='Sheet1')\n",
        "data.head(3)"
      ],
      "execution_count": null,
      "outputs": []
    },
    {
      "cell_type": "markdown",
      "metadata": {
        "id": "vIIHiETlYKr_",
        "colab_type": "text"
      },
      "source": [
        "# preprocessing"
      ]
    },
    {
      "cell_type": "code",
      "metadata": {
        "id": "Tx_WvCveYy1H",
        "colab_type": "code",
        "colab": {}
      },
      "source": [
        "#결측값(-) 제거\n",
        "data['Solo Kills'] = data['Solo Kills'].apply(lambda x:0 if x==\"-\" else x)\n",
        "meanavg = np.mean(data['Avg deaths'])\n",
        "data['Avg deaths'] = data['Avg deaths'].fillna(meanavg)\n",
        "\n",
        "\n",
        "#중복되는 선수 제거\n",
        "unique_list = data.groupby(['Player'])['Games'].max()\n",
        "unique_df = pd.DataFrame(unique_list).reset_index()\n",
        "unique_df2 = pd.merge(data, unique_df, on=[\"Player\",\"Games\"],how=\"right\")\n",
        "data = unique_df2\n",
        "\n",
        " #scaling\n",
        "object_ = ['Player','Position']\n",
        "data_noneed = data[object_]\n",
        "data_toscale = data.drop(object_, axis=1)\n",
        "\n",
        "scaler = StandardScaler()\n",
        "scaler.fit(data_toscale)\n",
        "scaled_matrix = scaler.transform(data_toscale)\n",
        "scaled_data = pd.DataFrame(scaled_matrix)\n",
        "scaled_data.columns = list(data_toscale)\n",
        "\n",
        "data = pd.concat([data_noneed, scaled_data], axis=1)\n",
        "\n",
        "\n",
        "data.head()"
      ],
      "execution_count": null,
      "outputs": []
    },
    {
      "cell_type": "markdown",
      "metadata": {
        "id": "As8MRkmlXZAZ",
        "colab_type": "text"
      },
      "source": [
        "# scaling"
      ]
    },
    {
      "cell_type": "markdown",
      "metadata": {
        "id": "JJg6UofZYIhD",
        "colab_type": "text"
      },
      "source": [
        "# meanshift"
      ]
    },
    {
      "cell_type": "code",
      "metadata": {
        "id": "QTF_aSrTYMBH",
        "colab_type": "code",
        "colab": {}
      },
      "source": [
        "best_bandwidth = estimate_bandwidth(scaled_matrix)\n",
        "print('bandwidth 최적값 ', round(best_bandwidth,3))"
      ],
      "execution_count": null,
      "outputs": []
    },
    {
      "cell_type": "code",
      "metadata": {
        "id": "plAnDAlxZqot",
        "colab_type": "code",
        "colab": {}
      },
      "source": [
        "meanshift = MeanShift(bandwidth = best_bandwidth)\n",
        "meanshift.fit(scaled_matrix)"
      ],
      "execution_count": null,
      "outputs": []
    },
    {
      "cell_type": "code",
      "metadata": {
        "id": "uHwApzsjZvB-",
        "colab_type": "code",
        "colab": {}
      },
      "source": [
        "data['cluster'] = meanshift.predict(scaled_matrix)"
      ],
      "execution_count": null,
      "outputs": []
    },
    {
      "cell_type": "code",
      "metadata": {
        "id": "lcOSpixZaGBv",
        "colab_type": "code",
        "colab": {}
      },
      "source": [
        "n_clusters = len(data['cluster'].unique())"
      ],
      "execution_count": null,
      "outputs": []
    },
    {
      "cell_type": "markdown",
      "metadata": {
        "id": "djaEEXkiajMD",
        "colab_type": "text"
      },
      "source": [
        "# 클러스터별 특징"
      ]
    },
    {
      "cell_type": "code",
      "metadata": {
        "id": "xkuFx0qraAe4",
        "colab_type": "code",
        "colab": {}
      },
      "source": [
        "merged_df = pd.DataFrame()\n",
        "for i in range(n_clusters):\n",
        "    test = pd.DataFrame(data[data['cluster'] == i].mean())\n",
        "    test = test.T.set_index('cluster', drop = True)\n",
        "    test['size'] = scaled_data[data['cluster'] == i].shape[0]\n",
        "    merged_df = pd.concat([merged_df, test])\n",
        "merged_df"
      ],
      "execution_count": null,
      "outputs": []
    },
    {
      "cell_type": "markdown",
      "metadata": {
        "id": "0EZd5TgbalGk",
        "colab_type": "text"
      },
      "source": [
        "# 클러스터별 소속 선수"
      ]
    },
    {
      "cell_type": "code",
      "metadata": {
        "id": "A0AYCX22aUxq",
        "colab_type": "code",
        "colab": {}
      },
      "source": [
        "pd.set_option('display.max_colwidth', -1)\n",
        "\n",
        "show_all = data.groupby('cluster')['Player'].apply(list).reset_index()\n",
        "show_all"
      ],
      "execution_count": null,
      "outputs": []
    },
    {
      "cell_type": "markdown",
      "metadata": {
        "id": "O0Hk3aS5cyO0",
        "colab_type": "text"
      },
      "source": [
        "# bandwidth = 4\n",
        "- parameter : bandwidth 이거 조정하면 됨\n"
      ]
    },
    {
      "cell_type": "code",
      "metadata": {
        "id": "-oWn0O0GcQLo",
        "colab_type": "code",
        "colab": {}
      },
      "source": [
        "meanshift = MeanShift(bandwidth = 4)\n",
        "meanshift.fit(scaled_matrix)\n",
        "\n",
        "data['cluster'] = meanshift.predict(scaled_matrix)\n",
        "\n",
        "n_clusters = len(data['cluster'].unique())\n",
        "\n",
        "n_clusters"
      ],
      "execution_count": null,
      "outputs": []
    },
    {
      "cell_type": "code",
      "metadata": {
        "id": "7l7JAYpGcbHv",
        "colab_type": "code",
        "colab": {}
      },
      "source": [
        "merged_df = pd.DataFrame()\n",
        "for i in range(n_clusters):\n",
        "    test = pd.DataFrame(data[data['cluster'] == i].mean())\n",
        "    test = test.T.set_index('cluster', drop = True)\n",
        "    test['size'] = scaled_data[data['cluster'] == i].shape[0]\n",
        "    merged_df = pd.concat([merged_df, test])\n",
        "merged_df"
      ],
      "execution_count": null,
      "outputs": []
    },
    {
      "cell_type": "code",
      "metadata": {
        "id": "kltP_Bzecb59",
        "colab_type": "code",
        "colab": {}
      },
      "source": [
        "pd.set_option('display.max_colwidth', -1)\n",
        "\n",
        "show_all = data.groupby('cluster')['Player'].apply(list).reset_index()\n",
        "show_all"
      ],
      "execution_count": null,
      "outputs": []
    },
    {
      "cell_type": "markdown",
      "metadata": {
        "colab_type": "text",
        "id": "F5Bbrqv7c_LI"
      },
      "source": [
        "# bandwidth = 3\n",
        "- parameter : bandwidth 이거 조정하면 됨\n"
      ]
    },
    {
      "cell_type": "code",
      "metadata": {
        "colab_type": "code",
        "id": "Nn8Be0aTc_LM",
        "colab": {}
      },
      "source": [
        "meanshift = MeanShift(bandwidth = 3)\n",
        "meanshift.fit(scaled_matrix)\n",
        "\n",
        "data['cluster'] = meanshift.predict(scaled_matrix)\n",
        "\n",
        "n_clusters = len(data['cluster'].unique())\n",
        "\n",
        "n_clusters"
      ],
      "execution_count": null,
      "outputs": []
    },
    {
      "cell_type": "code",
      "metadata": {
        "colab_type": "code",
        "id": "Y9yh1Nvmc_LT",
        "colab": {}
      },
      "source": [
        "merged_df = pd.DataFrame()\n",
        "for i in range(n_clusters):\n",
        "    test = pd.DataFrame(data[data['cluster'] == i].mean())\n",
        "    test = test.T.set_index('cluster', drop = True)\n",
        "    test['size'] = scaled_data[data['cluster'] == i].shape[0]\n",
        "    merged_df = pd.concat([merged_df, test])\n",
        "merged_df"
      ],
      "execution_count": null,
      "outputs": []
    },
    {
      "cell_type": "code",
      "metadata": {
        "colab_type": "code",
        "id": "pEP-HxaHc_LY",
        "colab": {}
      },
      "source": [
        "pd.set_option('display.max_colwidth', -1)\n",
        "\n",
        "show_all = data.groupby('cluster')['Player'].apply(list).reset_index()\n",
        "show_all"
      ],
      "execution_count": null,
      "outputs": []
    }
  ]
}
